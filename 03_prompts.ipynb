{
  "cells": [
    {
      "cell_type": "markdown",
      "metadata": {
        "id": "wOYUHE2cr9nF"
      },
      "source": [
        "[![Open In Colab](https://colab.research.google.com/assets/colab-badge.svg)](https://colab.research.google.com/github/aurelio-labs/langchain-course/blob/main/chapters/03-prompts.ipynb)"
      ]
    },
    {
      "cell_type": "markdown",
      "metadata": {
        "id": "JuFGPQNZryUt"
      },
      "source": [
        "### LangChain Essentials"
      ]
    },
    {
      "cell_type": "markdown",
      "metadata": {
        "id": "4ww7iP72ryUv"
      },
      "source": [
        "# Prompts Templating for OpenAI - LangChain"
      ]
    },
    {
      "cell_type": "markdown",
      "metadata": {
        "id": "bme97GW3ryUv"
      },
      "source": [
        "Until 2021, to use an AI model for a specific use-case we would need to fine-tune the model weights themselves. That would require huge amounts of training data and significant compute to fine-tune any reasonably performing model.\n",
        "\n",
        "Instruction fine-tuned **L**arge **L**anguage **M**odels (LLMs) changed this fundamental rule of applying AI models to new use-cases. Rather than needing to either train a model from scratch or fine-tune an existing model, these new LLMs could adapt incredibly well to a new problem or use-case with nothing more than a prompt change.\n",
        "\n",
        "Prompts allow us to completely change the functionality of an AI pipeline. Through natural language we simply _tell_ our LLM what it needs to do, and with the right AI pipeline and prompting, it often works.\n",
        "\n",
        "LangChain naturally has many functionalities geared towards helping us build our prompts. We can build very dynamic prompting pipelines that modifying the structure and content of what we feed into our LLM based on essentially any parameter we would like. In this example, we'll explore the essentials to prompting in LangChain and apply this in a demo **R**etrieval **A**ugmented **G**eneration (RAG) pipeline.\n"
      ]
    },
    {
      "cell_type": "code",
      "execution_count": 1,
      "metadata": {
        "colab": {
          "base_uri": "https://localhost:8080/"
        },
        "id": "E6aKPEfPsYNf",
        "outputId": "3ac8a9f7-cdda-4772-e5e7-03e4096e80b1"
      },
      "outputs": [
        {
          "name": "stdout",
          "output_type": "stream",
          "text": [
            "Found existing installation: langchain 0.3.27\n",
            "Uninstalling langchain-0.3.27:\n",
            "  Successfully uninstalled langchain-0.3.27\n",
            "Found existing installation: google-generativeai 0.8.5\n",
            "Uninstalling google-generativeai-0.8.5:\n",
            "  Successfully uninstalled google-generativeai-0.8.5\n",
            "\u001b[2K     \u001b[90m━━━━━━━━━━━━━━━━━━━━━━━━━━━━━━━━━━━━━━━━\u001b[0m \u001b[32m43.1/43.1 kB\u001b[0m \u001b[31m2.8 MB/s\u001b[0m eta \u001b[36m0:00:00\u001b[0m\n",
            "\u001b[2K   \u001b[90m━━━━━━━━━━━━━━━━━━━━━━━━━━━━━━━━━━━━━━━━\u001b[0m \u001b[32m444.0/444.0 kB\u001b[0m \u001b[31m27.0 MB/s\u001b[0m eta \u001b[36m0:00:00\u001b[0m\n",
            "\u001b[2K   \u001b[90m━━━━━━━━━━━━━━━━━━━━━━━━━━━━━━━━━━━━━━━━\u001b[0m \u001b[32m2.5/2.5 MB\u001b[0m \u001b[31m83.6 MB/s\u001b[0m eta \u001b[36m0:00:00\u001b[0m\n",
            "\u001b[2K   \u001b[90m━━━━━━━━━━━━━━━━━━━━━━━━━━━━━━━━━━━━━━━━\u001b[0m \u001b[32m49.4/49.4 kB\u001b[0m \u001b[31m3.7 MB/s\u001b[0m eta \u001b[36m0:00:00\u001b[0m\n",
            "\u001b[2K   \u001b[90m━━━━━━━━━━━━━━━━━━━━━━━━━━━━━━━━━━━━━━━━\u001b[0m \u001b[32m241.7/241.7 kB\u001b[0m \u001b[31m20.8 MB/s\u001b[0m eta \u001b[36m0:00:00\u001b[0m\n",
            "\u001b[2K   \u001b[90m━━━━━━━━━━━━━━━━━━━━━━━━━━━━━━━━━━━━━━━━\u001b[0m \u001b[32m377.0/377.0 kB\u001b[0m \u001b[31m27.1 MB/s\u001b[0m eta \u001b[36m0:00:00\u001b[0m\n",
            "\u001b[2K   \u001b[90m━━━━━━━━━━━━━━━━━━━━━━━━━━━━━━━━━━━━━━━━\u001b[0m \u001b[32m1.4/1.4 MB\u001b[0m \u001b[31m65.5 MB/s\u001b[0m eta \u001b[36m0:00:00\u001b[0m\n",
            "\u001b[2K   \u001b[90m━━━━━━━━━━━━━━━━━━━━━━━━━━━━━━━━━━━━━━━━\u001b[0m \u001b[32m1.0/1.0 MB\u001b[0m \u001b[31m42.7 MB/s\u001b[0m eta \u001b[36m0:00:00\u001b[0m\n",
            "\u001b[2K   \u001b[90m━━━━━━━━━━━━━━━━━━━━━━━━━━━━━━━━━━━━━━━━\u001b[0m \u001b[32m64.7/64.7 kB\u001b[0m \u001b[31m5.9 MB/s\u001b[0m eta \u001b[36m0:00:00\u001b[0m\n",
            "\u001b[2K   \u001b[90m━━━━━━━━━━━━━━━━━━━━━━━━━━━━━━━━━━━━━━━━\u001b[0m \u001b[32m50.9/50.9 kB\u001b[0m \u001b[31m4.2 MB/s\u001b[0m eta \u001b[36m0:00:00\u001b[0m\n",
            "\u001b[?25h\u001b[31mERROR: pip's dependency resolver does not currently take into account all the packages that are installed. This behaviour is the source of the following dependency conflicts.\n",
            "google-colab 1.0.0 requires requests==2.32.4, but you have requests 2.32.5 which is incompatible.\u001b[0m\u001b[31m\n",
            "\u001b[0m"
          ]
        }
      ],
      "source": [
        "!pip uninstall -y langchain google-generativeai\n",
        "!pip install -qU \\\n",
        "  \"pydantic>=2.11.4,<3\" \\\n",
        "  \"langchain-core>=0.3.70,<0.4\" \\\n",
        "  \"langchain-community>=0.3.27,<0.4\" \\\n",
        "  \"langchain-google-genai>=2.1.10\" \\\n",
        "  \"google-genai>=0.7.0\" \\\n",
        "  \"langsmith>=0.3.4\"\n"
      ]
    },
    {
      "cell_type": "markdown",
      "metadata": {
        "id": "F33PFuisryUv"
      },
      "source": [
        "---\n",
        "\n",
        "> ⚠️ We will be using OpenAI for this example allowing us to run everything via API. If you would like to use Ollama instead, check out the [Ollama LangChain Course](https://github.com/aurelio-labs/langchain-course/tree/main/notebooks/ollama).\n",
        "\n",
        "---\n",
        "\n",
        "> Switched to Gemini\n",
        "\n"
      ]
    },
    {
      "cell_type": "markdown",
      "metadata": {
        "id": "AaNrSZdlryUw"
      },
      "source": [
        "---\n",
        "\n",
        "> ⚠️ If using LangSmith, add your API key below:"
      ]
    },
    {
      "cell_type": "code",
      "execution_count": 3,
      "metadata": {
        "id": "GJAH_3KTryUw"
      },
      "outputs": [],
      "source": [
        "import os\n",
        "from getpass import getpass\n",
        "from google.colab import userdata\n",
        "\n",
        "# must enter API key\n",
        "os.environ[\"LANGCHAIN_API_KEY\"] = userdata.get(\"LANGCHAIN_API_KEY\") or \\\n",
        "    getpass(\"Enter LangSmith API Key: \")\n",
        "\n",
        "# below should not be changed\n",
        "os.environ[\"LANGCHAIN_TRACING_V2\"] = \"true\"\n",
        "os.environ[\"LANGCHAIN_ENDPOINT\"] = \"https://api.smith.langchain.com\"\n",
        "# you can change this as preferred\n",
        "os.environ[\"LANGCHAIN_PROJECT\"] = \"aurelioai-langchain-course-prompts-openai\""
      ]
    },
    {
      "cell_type": "markdown",
      "metadata": {
        "id": "lAJf0RakryUw"
      },
      "source": [
        "---"
      ]
    },
    {
      "cell_type": "markdown",
      "metadata": {
        "id": "Gb0lil1pryUw"
      },
      "source": [
        "## Basic Prompting"
      ]
    },
    {
      "cell_type": "markdown",
      "metadata": {
        "id": "oZMTefWKryUw"
      },
      "source": [
        "We'll start by looking at the various parts of our prompt. For RAG use-cases we'll typically have three core components however this is _very_ use-cases dependant and can vary significantly. Nonetheless, for RAG we will typically see:\n",
        "\n",
        "* **Rules for our LLM**: this part of the prompt sets up the behavior of our LLM, how it should approach responding to user queries, and simply providing as much information as possible about what we're wanting to do as possible. We typically place this within the _system prompt_ of an chat LLM.\n",
        "\n",
        "* **Context**: this part is RAG-specific. The context refers to some _external information_ that we may have retrieved from a web search, database query, or often a _vector database_. This external information is the **R**etrieval **A**ugmentation part of **RA**G. For chat LLMs we'll typically place this inside the chat messages between the assistant and user.\n",
        "\n",
        "* **Question**: this is the input from our user. In the vast majority of cases the question/query/user input will always be provided to the LLM (and typically through a _user message_). However, the format and location of this being provided often changes.\n",
        "\n",
        "* **Answer**: this is the answer from our assistant, again this is _very_ typical and we'd expect this with every use-case.\n",
        "\n",
        "The below is an example of how a RAG prompt may look:"
      ]
    },
    {
      "cell_type": "markdown",
      "metadata": {
        "id": "ll8Wq33DryUx"
      },
      "source": [
        "```\n",
        "Answer the question based on the context below,                 }\n",
        "if you cannot answer the question using the                     }--->  (Rules) For Our Prompt\n",
        "provided information answer with \"I don't know\"                 }\n",
        "\n",
        "Context: Aurelio AI is an AI development studio                 }\n",
        "focused on the fields of Natural Language Processing (NLP)      }\n",
        "and information retrieval using modern tooling                  }--->   Context AI has\n",
        "such as Large Language Models (LLMs),                           }\n",
        "vector databases, and LangChain.                                }\n",
        "\n",
        "Question: Does Aurelio AI do anything related to LangChain?     }--->   User Question\n",
        "\n",
        "Answer:                                                         }--->   AI Answer\n",
        "```"
      ]
    },
    {
      "cell_type": "markdown",
      "metadata": {
        "id": "PLTVff_fryUx"
      },
      "source": [
        "Here we can see how the AI will appoach our question, as you can see we have a formulated response, if the context has the answer, then use the context to answer the question, if not, say I don't know, then we also have context and question which are being passed into this similarly to paramaters in a function."
      ]
    },
    {
      "cell_type": "code",
      "execution_count": 4,
      "metadata": {
        "id": "Acf6rPrhryUx"
      },
      "outputs": [],
      "source": [
        "prompt = \"\"\"\n",
        "Answer the user's query based on the context below.\n",
        "If you cannot answer the question using the\n",
        "provided information answer with \"I don't know\".\n",
        "\n",
        "Context: {context}\n",
        "\"\"\""
      ]
    },
    {
      "cell_type": "markdown",
      "metadata": {
        "id": "rTc4UoqkryUx"
      },
      "source": [
        "LangChain uses a `ChatPromptTemplate` object to format the various prompt types into a single list which will be passed to our LLM:"
      ]
    },
    {
      "cell_type": "code",
      "execution_count": 5,
      "metadata": {
        "id": "iC1F_FdKryUx"
      },
      "outputs": [],
      "source": [
        "from langchain.prompts import ChatPromptTemplate\n",
        "\n",
        "# passing the template to the LangChain model\n",
        "prompt_template = ChatPromptTemplate.from_messages([\n",
        "    (\"system\", prompt),\n",
        "    (\"user\", \"{query}\"),\n",
        "])"
      ]
    },
    {
      "cell_type": "markdown",
      "metadata": {
        "id": "BXmZnfSqryUx"
      },
      "source": [
        "When we call the template it will expect us to provide two variables, the `context` and the `query`. Both of these variables are pulled from the strings we wrote, as LangChain interprets curly-bracket syntax (ie `{context}` and `{query}`) as indicating a dynamic variable that we expect to be inserted at query time. We can see that these variables have been picked up by our template object by viewing it's `input_variables` attribute:"
      ]
    },
    {
      "cell_type": "code",
      "execution_count": 6,
      "metadata": {
        "colab": {
          "base_uri": "https://localhost:8080/"
        },
        "id": "zx4T96PVryUx",
        "outputId": "480a2d39-bca8-495b-9127-b6db3d750b5c"
      },
      "outputs": [
        {
          "data": {
            "text/plain": [
              "['context', 'query']"
            ]
          },
          "execution_count": 6,
          "metadata": {},
          "output_type": "execute_result"
        }
      ],
      "source": [
        "prompt_template.input_variables"
      ]
    },
    {
      "cell_type": "markdown",
      "metadata": {
        "id": "zXfKlpdoryUx"
      },
      "source": [
        "We can also view the structure of the messages (currently _prompt templates_) that the `ChatPromptTemplate` will construct by viewing the `messages` attribute:"
      ]
    },
    {
      "cell_type": "code",
      "execution_count": 7,
      "metadata": {
        "colab": {
          "base_uri": "https://localhost:8080/"
        },
        "id": "HlgLvsV6ryUx",
        "outputId": "97dfe237-c8c9-42a3-c455-287c89dadb89"
      },
      "outputs": [
        {
          "data": {
            "text/plain": [
              "[SystemMessagePromptTemplate(prompt=PromptTemplate(input_variables=['context'], input_types={}, partial_variables={}, template='\\nAnswer the user\\'s query based on the context below.\\nIf you cannot answer the question using the\\nprovided information answer with \"I don\\'t know\".\\n\\nContext: {context}\\n'), additional_kwargs={}),\n",
              " HumanMessagePromptTemplate(prompt=PromptTemplate(input_variables=['query'], input_types={}, partial_variables={}, template='{query}'), additional_kwargs={})]"
            ]
          },
          "execution_count": 7,
          "metadata": {},
          "output_type": "execute_result"
        }
      ],
      "source": [
        "prompt_template.messages"
      ]
    },
    {
      "cell_type": "markdown",
      "metadata": {
        "id": "BI8MHB4RryUx"
      },
      "source": [
        "From this, we can see that each tuple provided when using `ChatPromptTemplate.from_messages` becomes an individual prompt template itself. Within each of these tuples, the first value defines the _role_ of the message, which is typically `system`, `human`, or `ai`. Using these tuples is shorthand for the following, more explicit code:"
      ]
    },
    {
      "cell_type": "code",
      "execution_count": 8,
      "metadata": {
        "id": "f37FWLOcryUy"
      },
      "outputs": [],
      "source": [
        "from langchain.prompts import (\n",
        "    SystemMessagePromptTemplate,\n",
        "    HumanMessagePromptTemplate\n",
        ")\n",
        "\n",
        "prompt_template = ChatPromptTemplate.from_messages([\n",
        "    SystemMessagePromptTemplate.from_template(prompt),\n",
        "    HumanMessagePromptTemplate.from_template(\"{query}\"),\n",
        "])"
      ]
    },
    {
      "cell_type": "markdown",
      "metadata": {
        "id": "9uLUhXwWryUy"
      },
      "source": [
        "We can see the structure of this new chat prompt template is identical to our previous:"
      ]
    },
    {
      "cell_type": "code",
      "execution_count": 9,
      "metadata": {
        "colab": {
          "base_uri": "https://localhost:8080/"
        },
        "id": "2z3KfV5JryUy",
        "outputId": "ca478d27-acf3-42a2-ab4b-9257613c4293"
      },
      "outputs": [
        {
          "data": {
            "text/plain": [
              "[SystemMessagePromptTemplate(prompt=PromptTemplate(input_variables=['context'], input_types={}, partial_variables={}, template='\\nAnswer the user\\'s query based on the context below.\\nIf you cannot answer the question using the\\nprovided information answer with \"I don\\'t know\".\\n\\nContext: {context}\\n'), additional_kwargs={}),\n",
              " HumanMessagePromptTemplate(prompt=PromptTemplate(input_variables=['query'], input_types={}, partial_variables={}, template='{query}'), additional_kwargs={})]"
            ]
          },
          "execution_count": 9,
          "metadata": {},
          "output_type": "execute_result"
        }
      ],
      "source": [
        "prompt_template.messages"
      ]
    },
    {
      "cell_type": "markdown",
      "metadata": {
        "id": "yL63ZVTSryUy"
      },
      "source": [
        "### Invoking our LLM with Templates"
      ]
    },
    {
      "cell_type": "markdown",
      "metadata": {
        "id": "2RqGAcPzryUy"
      },
      "source": [
        "We start by initializing our LLM. We will use Gemini's `Flash 2.5 Lite` model, if you need an API key you can get one from Google AI studio.\n",
        "\n"
      ]
    },
    {
      "cell_type": "code",
      "execution_count": 10,
      "metadata": {
        "id": "pHn3m62kryUy"
      },
      "outputs": [],
      "source": [
        "from langchain_google_genai import ChatGoogleGenerativeAI\n",
        "\n",
        "os.environ[\"GOOGLE_API_KEY\"] = userdata.get(\"GOOGLE_API_KEY\") or getpass(\n",
        "    \"Enter Gemini API Key: \"\n",
        ")\n",
        "\n",
        "openai_model = \"gemini-2.5-flash-lite\"\n",
        "\n",
        "llm = ChatGoogleGenerativeAI(\n",
        "    model=openai_model,\n",
        "    temperature=0,\n",
        "    max_tokens=None,\n",
        "    timeout=None,\n",
        "    max_retries=2,\n",
        "    # other params...\n",
        ")"
      ]
    },
    {
      "cell_type": "markdown",
      "metadata": {
        "id": "jn0cn8ebryUy"
      },
      "source": [
        "Here we define our LLM and _because_ we're using it for a question-answer use-case we want it's answer to be as grounded in reality as possible. To do that, we ofcourse prompt it to not make up any information via the `If you cannot answer the question using the provided information answer with \"I don't know\"` line, but we _also_ use the model's `temperature` setting.\n",
        "\n",
        "The `temperature` parameter controls the randomness of the LLM's output. A temperature of `0.0` makes an LLM's output more determinstic which _in theory_ should lead to a lower likelihood of hallucination.\n",
        "\n",
        "Now, the question here may be, _why would we ever not use `temperature=0.0`?_ The answer to that is that sometimes a little bit of randomness can useful. Randomness tends to translate to text that feels more human and creative, so if we'd like an LLM to help us write an article or even a poem, that lack of determinism becomes a feature rather than a bug.\n",
        "\n",
        "For now, we'll stick with our more deterministic LLM. We'll setup the pipeline to consume two variables when our LLM pipeline is called, `query` and `context`, we'll feed them into our chat prompt template, and then invoke our LLM with our formatted messages.\n",
        "\n",
        "Although that sounds complicated, all we're doing is connecting our `prompt_template` and `llm`. We do this with **L**ang**C**hain **E**xpression **L**anguage (LCEL), which uses the `|` operator to connect our each component."
      ]
    },
    {
      "cell_type": "code",
      "execution_count": 11,
      "metadata": {
        "id": "_KhquCevryUy"
      },
      "outputs": [],
      "source": [
        "pipeline = (\n",
        "    {\n",
        "        \"query\": lambda x: x[\"query\"],\n",
        "        \"context\": lambda x: x[\"context\"]\n",
        "    }\n",
        "    | prompt_template\n",
        "    | llm\n",
        ")"
      ]
    },
    {
      "cell_type": "markdown",
      "metadata": {
        "id": "SKSPk7x_ryUy"
      },
      "source": [
        "Now let's define a `query` and some relevant `context` and invoke our pipeline."
      ]
    },
    {
      "cell_type": "code",
      "execution_count": 12,
      "metadata": {
        "id": "jhg8kQkbryUy"
      },
      "outputs": [],
      "source": [
        "context = \"\"\"Aurelio AI is an AI company developing tooling for AI\n",
        "engineers. Their focus is on language AI with the team having strong\n",
        "expertise in building AI agents and a strong background in\n",
        "information retrieval.\n",
        "\n",
        "The company is behind several open source frameworks, most notably\n",
        "Semantic Router and Semantic Chunkers. They also have an AI\n",
        "Platform providing engineers with tooling to help them build with\n",
        "AI. Finally, the team also provides development services to other\n",
        "organizations to help them bring their AI tech to market.\n",
        "\n",
        "Aurelio AI became LangChain Experts in September 2024 after a long\n",
        "track record of delivering AI solutions built with the LangChain\n",
        "ecosystem.\"\"\"\n",
        "\n",
        "query = \"what does Aurelio AI do?\""
      ]
    },
    {
      "cell_type": "code",
      "execution_count": 13,
      "metadata": {
        "colab": {
          "base_uri": "https://localhost:8080/"
        },
        "id": "4pfbZIXIryUy",
        "outputId": "dd29b030-2b7f-4f0f-9d2c-4feca8ffe5f2"
      },
      "outputs": [
        {
          "data": {
            "text/plain": [
              "AIMessage(content='Aurelio AI is an AI company that develops tooling for AI engineers, with a particular focus on language AI. They have expertise in building AI agents and information retrieval.\\n\\nThe company offers:\\n*   **Open-source frameworks:** Such as Semantic Router and Semantic Chunkers.\\n*   **An AI Platform:** Providing tools for AI engineers.\\n*   **Development services:** Helping other organizations bring their AI technology to market.\\n\\nAurelio AI also became LangChain Experts in September 2024, indicating a strong history of delivering solutions using the LangChain ecosystem.', additional_kwargs={}, response_metadata={'prompt_feedback': {'block_reason': 0, 'safety_ratings': []}, 'finish_reason': 'STOP', 'model_name': 'gemini-2.5-flash-lite', 'safety_ratings': []}, id='run--5502d40d-34cb-4213-a532-f518c16e8c48-0', usage_metadata={'input_tokens': 183, 'output_tokens': 119, 'total_tokens': 302, 'input_token_details': {'cache_read': 0}})"
            ]
          },
          "execution_count": 13,
          "metadata": {},
          "output_type": "execute_result"
        }
      ],
      "source": [
        "pipeline.invoke({\"query\": query, \"context\": context})"
      ]
    },
    {
      "cell_type": "markdown",
      "metadata": {
        "id": "yNuW9yxDryUy"
      },
      "source": [
        "Our LLM pipeline is able to consume the information from the `context` and use it to answer the user's `query`. Ofcourse, we would not usually be feeding in both a question and an answer into an LLM manually. Typically, the `context` would be retrieved from a vector database, via web search, or from elsewhere. We will cover this use-case in full and build a functional RAG pipeline in a future chapter."
      ]
    },
    {
      "cell_type": "markdown",
      "metadata": {
        "id": "5zvOUzIlryUz"
      },
      "source": [
        "## Few Shot Prompting"
      ]
    },
    {
      "cell_type": "markdown",
      "metadata": {
        "id": "EYa1xmwAryUz"
      },
      "source": [
        "Many **S**tate-**o**f-**t**he-**A**rt (SotA) LLMs are incredible at instruction following. Meaning that it requires much less effort to get the intended output or behavior from these models than is the case for older LLMs and smaller LLMs.\n",
        "\n",
        "Before creating an example let's first see how to use LangChain's few shot prompting objects. We will provide multiple examples and we'll feed them in as sequential human and ai messages so we setup the template like this:"
      ]
    },
    {
      "cell_type": "code",
      "execution_count": 14,
      "metadata": {
        "id": "iqTvW0BMryUz"
      },
      "outputs": [],
      "source": [
        "example_prompt = ChatPromptTemplate.from_messages([\n",
        "    (\"human\", \"{input}\"),\n",
        "    (\"ai\", \"{output}\"),\n",
        "])"
      ]
    },
    {
      "cell_type": "markdown",
      "metadata": {
        "id": "3B6gYNmqryUz"
      },
      "source": [
        "Then we define a list of examples with dictionaries containing the correct `input` and `output` keys."
      ]
    },
    {
      "cell_type": "code",
      "execution_count": 15,
      "metadata": {
        "id": "iO-OT9-jryUz"
      },
      "outputs": [],
      "source": [
        "examples = [\n",
        "    {\"input\": \"Here is query #1\", \"output\": \"Here is the answer #1\"},\n",
        "    {\"input\": \"Here is query #2\", \"output\": \"Here is the answer #2\"},\n",
        "    {\"input\": \"Here is query #3\", \"output\": \"Here is the answer #3\"},\n",
        "]"
      ]
    },
    {
      "cell_type": "markdown",
      "metadata": {
        "id": "QhaDY0vZryUz"
      },
      "source": [
        "We then feed both of these into our `FewShotChatMessagePromptTemplate` object:"
      ]
    },
    {
      "cell_type": "code",
      "execution_count": 16,
      "metadata": {
        "colab": {
          "base_uri": "https://localhost:8080/"
        },
        "id": "hXTHA5T2ryUz",
        "outputId": "c358ed7a-dc62-4883-c1c2-ec1d2ec20162"
      },
      "outputs": [
        {
          "name": "stdout",
          "output_type": "stream",
          "text": [
            "Human: Here is query #1\n",
            "AI: Here is the answer #1\n",
            "Human: Here is query #2\n",
            "AI: Here is the answer #2\n",
            "Human: Here is query #3\n",
            "AI: Here is the answer #3\n"
          ]
        }
      ],
      "source": [
        "from langchain.prompts import FewShotChatMessagePromptTemplate\n",
        "\n",
        "few_shot_prompt = FewShotChatMessagePromptTemplate(\n",
        "    example_prompt=example_prompt,\n",
        "    examples=examples,\n",
        ")\n",
        "# here is the formatted prompt\n",
        "print(few_shot_prompt.format())"
      ]
    },
    {
      "cell_type": "markdown",
      "metadata": {
        "id": "AsVWIVKLryU0"
      },
      "source": [
        "Using this we can provide different sets of `examples` or even different individual `example_prompt` templates to the `FewShotChatMessagePromptTemplate` object to build our prompt structure. Let's try an real example where we might use few-shot prompting.\n",
        "\n",
        "### Few-Shot Example"
      ]
    },
    {
      "cell_type": "markdown",
      "metadata": {
        "id": "nSN4tYI7ryU0"
      },
      "source": [
        "Using a tiny LLM limits it's ability, so when asking for specific behaviors or structured outputs it can struggle. For example, we'll ask the LLM to summarize the key points about Aurelio AI using markdown and bullet points. Let's see what happens."
      ]
    },
    {
      "cell_type": "code",
      "execution_count": 17,
      "metadata": {
        "colab": {
          "base_uri": "https://localhost:8080/"
        },
        "id": "H_OOSKg-ryU0",
        "outputId": "c80d1376-8367-49bd-fce7-6afe85572448"
      },
      "outputs": [
        {
          "name": "stdout",
          "output_type": "stream",
          "text": [
            "# Aurelio AI: AI Engineering Tooling and Services\n",
            "\n",
            "Aurelio AI is a company dedicated to developing tools and providing services for AI engineers, with a particular emphasis on language AI.\n",
            "\n",
            "## Key Offerings:\n",
            "\n",
            "*   **AI Tooling:**\n",
            "    *   Development of open-source frameworks such as Semantic Router and Semantic Chunkers.\n",
            "    *   An AI Platform that offers engineers tools for building AI applications.\n",
            "*   **Expertise:**\n",
            "    *   Strong focus on language AI.\n",
            "    *   Deep expertise in building AI agents.\n",
            "    *   Significant background in information retrieval.\n",
            "*   **Services:**\n",
            "    *   Development services for organizations looking to commercialize their AI technology.\n",
            "*   **LangChain Partnership:**\n",
            "    *   Became LangChain Experts in September 2024, demonstrating a strong history of building solutions using the LangChain ecosystem.\n",
            "\n",
            "In summary, Aurelio AI empowers AI engineers through specialized tooling, open-source contributions, and expert development services, particularly within the realm of language AI and the LangChain framework.\n"
          ]
        }
      ],
      "source": [
        "new_system_prompt = \"\"\"\n",
        "Answer the user's query based on the context below.\n",
        "If you cannot answer the question using the\n",
        "provided information answer with \"I don't know\".\n",
        "\n",
        "Always answer in markdown format. When doing so please\n",
        "provide headers, short summaries, follow with bullet\n",
        "points, then conclude.\n",
        "\n",
        "Context: {context}\n",
        "\"\"\"\n",
        "\n",
        "prompt_template.messages[0].prompt.template = new_system_prompt\n",
        "\n",
        "out = pipeline.invoke({\"query\": query, \"context\": context}).content\n",
        "print(out)"
      ]
    },
    {
      "cell_type": "markdown",
      "metadata": {
        "id": "n-IUcKKVryU0"
      },
      "source": [
        "We can display our markdown nicely with `IPython` like so:"
      ]
    },
    {
      "cell_type": "code",
      "execution_count": 18,
      "metadata": {
        "colab": {
          "base_uri": "https://localhost:8080/",
          "height": 423
        },
        "id": "yA5sXUejryU0",
        "outputId": "7ed40315-7703-4eea-8c8e-ad3c2070a1cb"
      },
      "outputs": [
        {
          "data": {
            "text/markdown": [
              "# Aurelio AI: AI Engineering Tooling and Services\n",
              "\n",
              "Aurelio AI is a company dedicated to developing tools and providing services for AI engineers, with a particular emphasis on language AI.\n",
              "\n",
              "## Key Offerings:\n",
              "\n",
              "*   **AI Tooling:**\n",
              "    *   Development of open-source frameworks such as Semantic Router and Semantic Chunkers.\n",
              "    *   An AI Platform that offers engineers tools for building AI applications.\n",
              "*   **Expertise:**\n",
              "    *   Strong focus on language AI.\n",
              "    *   Deep expertise in building AI agents.\n",
              "    *   Significant background in information retrieval.\n",
              "*   **Services:**\n",
              "    *   Development services for organizations looking to commercialize their AI technology.\n",
              "*   **LangChain Partnership:**\n",
              "    *   Became LangChain Experts in September 2024, demonstrating a strong history of building solutions using the LangChain ecosystem.\n",
              "\n",
              "In summary, Aurelio AI empowers AI engineers through specialized tooling, open-source contributions, and expert development services, particularly within the realm of language AI and the LangChain framework."
            ],
            "text/plain": [
              "<IPython.core.display.Markdown object>"
            ]
          },
          "metadata": {},
          "output_type": "display_data"
        }
      ],
      "source": [
        "from IPython.display import display, Markdown\n",
        "\n",
        "display(Markdown(out))"
      ]
    },
    {
      "cell_type": "markdown",
      "metadata": {
        "id": "2-st-PlBryU0"
      },
      "source": [
        "This is not bad, but also not quite the format we wanted. We could try improving our initial prompting instructions, but when this doesn't work we can move on to our few-shot prompting. We want to build something like this:"
      ]
    },
    {
      "cell_type": "markdown",
      "metadata": {
        "id": "s6CCb3bIryU0"
      },
      "source": [
        "```\n",
        "Answer the user's query based on the context below,                 }\n",
        "if you cannot answer the question using the                         }\n",
        "provided information answer with \"I don't know\"                     }\n",
        "                                                                    }--->  (Rules)\n",
        "Always answer in markdown format. When doing so please              }\n",
        "provide headers, short summaries, follow with bullet                }\n",
        "points, then conclude. Here are some examples:                      }\n",
        "\n",
        "\n",
        "User: Can you explain gravity?                                      }\n",
        "AI: ## Gravity                                                      }\n",
        "                                                                    }\n",
        "Gravity is one of the fundamental forces in the universe.           }\n",
        "                                                                    }\n",
        "### Discovery                                                       }--->  (Example 1)\n",
        "                                                                    }\n",
        "* Gravity was first discovered by...                                }\n",
        "                                                                    }\n",
        "**To conclude**, Gravity is a fascinating topic and has been...     }\n",
        "                                                                    }\n",
        "\n",
        "User: What is the capital of France?                                }\n",
        "AI: ## France                                                       }\n",
        "                                                                    }\n",
        "The capital of France is Paris.                                     }\n",
        "                                                                    }--->  (Example 2)\n",
        "### Origins                                                         }\n",
        "                                                                    }\n",
        "* The name Paris comes from the...                                  }\n",
        "                                                                    }\n",
        "**To conclude**, Paris is highly regarded as one of the...          }\n",
        "\n",
        "Context: {context}                                                  }--->  (Context)\n",
        "```"
      ]
    },
    {
      "cell_type": "markdown",
      "metadata": {
        "id": "BbZYdVB9ryU0"
      },
      "source": [
        "We have already defined our `example_prompt` so now we just change our `examples` to use some examples of a user asking a question and the LLM answering in the exact markdown format we need."
      ]
    },
    {
      "cell_type": "code",
      "execution_count": 19,
      "metadata": {
        "id": "9CRNB9UDryU0"
      },
      "outputs": [],
      "source": [
        "examples = [\n",
        "    {\n",
        "        \"input\": \"Can you explain gravity?\",\n",
        "        \"output\": (\n",
        "            \"## Gravity\\n\\n\"\n",
        "            \"Gravity is one of the fundamental forces in the universe.\\n\\n\"\n",
        "            \"### Discovery\\n\\n\"\n",
        "            \"* Gravity was first discovered by Sir Isaac Newton in the late 17th century.\\n\"\n",
        "            \"* It was said that Newton theorized about gravity after seeing an apple fall from a tree.\\n\\n\"\n",
        "            \"### In General Relativity\\n\\n\"\n",
        "            \"* Gravity is described as the curvature of spacetime.\\n\"\n",
        "            \"* The more massive an object is, the more it curves spacetime.\\n\"\n",
        "            \"* This curvature is what causes objects to fall towards each other.\\n\\n\"\n",
        "            \"### Gravitons\\n\\n\"\n",
        "            \"* Gravitons are hypothetical particles that mediate the force of gravity.\\n\"\n",
        "            \"* They have not yet been detected.\\n\\n\"\n",
        "            \"**To conclude**, Gravity is a fascinating topic and has been studied extensively since the time of Newton.\\n\\n\"\n",
        "        )\n",
        "    },\n",
        "    {\n",
        "        \"input\": \"What is the capital of France?\",\n",
        "        \"output\": (\n",
        "            \"## France\\n\\n\"\n",
        "            \"The capital of France is Paris.\\n\\n\"\n",
        "            \"### Origins\\n\\n\"\n",
        "            \"* The name Paris comes from the Latin word \\\"Parisini\\\" which referred to a Celtic people living in the area.\\n\"\n",
        "            \"* The Romans named the city Lutetia, which means \\\"the place where the river turns\\\".\\n\"\n",
        "            \"* The city was renamed Paris in the 3rd century BC by the Celtic-speaking Parisii tribe.\\n\\n\"\n",
        "            \"**To conclude**, Paris is highly regarded as one of the most beautiful cities in the world and is one of the world's greatest cultural and economic centres.\\n\\n\"\n",
        "        )\n",
        "    }\n",
        "]"
      ]
    },
    {
      "cell_type": "markdown",
      "metadata": {
        "id": "aPJgXmiCryU0"
      },
      "source": [
        "We feed these into our `FewShotChatMessagePromptTemplate` object:"
      ]
    },
    {
      "cell_type": "code",
      "execution_count": 20,
      "metadata": {
        "id": "EatYep9JryU1"
      },
      "outputs": [],
      "source": [
        "few_shot_prompt = FewShotChatMessagePromptTemplate(\n",
        "    example_prompt=example_prompt,\n",
        "    examples=examples,\n",
        ")"
      ]
    },
    {
      "cell_type": "markdown",
      "metadata": {
        "id": "2Zf6BdXXryU1"
      },
      "source": [
        "Our formatted prompt now looks like this:"
      ]
    },
    {
      "cell_type": "code",
      "execution_count": 21,
      "metadata": {
        "colab": {
          "base_uri": "https://localhost:8080/",
          "height": 507
        },
        "id": "imLL8987ryU1",
        "outputId": "f1ec7833-c352-4574-a7c2-f4df05a9bf00"
      },
      "outputs": [
        {
          "data": {
            "text/markdown": [
              "Human: Can you explain gravity?\n",
              "AI: ## Gravity\n",
              "\n",
              "Gravity is one of the fundamental forces in the universe.\n",
              "\n",
              "### Discovery\n",
              "\n",
              "* Gravity was first discovered by Sir Isaac Newton in the late 17th century.\n",
              "* It was said that Newton theorized about gravity after seeing an apple fall from a tree.\n",
              "\n",
              "### In General Relativity\n",
              "\n",
              "* Gravity is described as the curvature of spacetime.\n",
              "* The more massive an object is, the more it curves spacetime.\n",
              "* This curvature is what causes objects to fall towards each other.\n",
              "\n",
              "### Gravitons\n",
              "\n",
              "* Gravitons are hypothetical particles that mediate the force of gravity.\n",
              "* They have not yet been detected.\n",
              "\n",
              "**To conclude**, Gravity is a fascinating topic and has been studied extensively since the time of Newton.\n",
              "\n",
              "\n",
              "Human: What is the capital of France?\n",
              "AI: ## France\n",
              "\n",
              "The capital of France is Paris.\n",
              "\n",
              "### Origins\n",
              "\n",
              "* The name Paris comes from the Latin word \"Parisini\" which referred to a Celtic people living in the area.\n",
              "* The Romans named the city Lutetia, which means \"the place where the river turns\".\n",
              "* The city was renamed Paris in the 3rd century BC by the Celtic-speaking Parisii tribe.\n",
              "\n",
              "**To conclude**, Paris is highly regarded as one of the most beautiful cities in the world and is one of the world's greatest cultural and economic centres.\n",
              "\n"
            ],
            "text/plain": [
              "<IPython.core.display.Markdown object>"
            ]
          },
          "metadata": {},
          "output_type": "display_data"
        }
      ],
      "source": [
        "out = few_shot_prompt.format()\n",
        "\n",
        "display(Markdown(out))"
      ]
    },
    {
      "cell_type": "markdown",
      "metadata": {
        "id": "LpXGxDZtryU1"
      },
      "source": [
        "We then pull all of this together with our system prompt and final user query to create our final prompt and feed it into our LLM."
      ]
    },
    {
      "cell_type": "code",
      "execution_count": 22,
      "metadata": {
        "colab": {
          "base_uri": "https://localhost:8080/"
        },
        "id": "OLZWvcRS7Ez7",
        "outputId": "0e1fd1e1-bd1e-43ff-e4dd-24b82f4c119f"
      },
      "outputs": [
        {
          "data": {
            "text/plain": [
              "FewShotChatMessagePromptTemplate(examples=[{'input': 'Can you explain gravity?', 'output': '## Gravity\\n\\nGravity is one of the fundamental forces in the universe.\\n\\n### Discovery\\n\\n* Gravity was first discovered by Sir Isaac Newton in the late 17th century.\\n* It was said that Newton theorized about gravity after seeing an apple fall from a tree.\\n\\n### In General Relativity\\n\\n* Gravity is described as the curvature of spacetime.\\n* The more massive an object is, the more it curves spacetime.\\n* This curvature is what causes objects to fall towards each other.\\n\\n### Gravitons\\n\\n* Gravitons are hypothetical particles that mediate the force of gravity.\\n* They have not yet been detected.\\n\\n**To conclude**, Gravity is a fascinating topic and has been studied extensively since the time of Newton.\\n\\n'}, {'input': 'What is the capital of France?', 'output': '## France\\n\\nThe capital of France is Paris.\\n\\n### Origins\\n\\n* The name Paris comes from the Latin word \"Parisini\" which referred to a Celtic people living in the area.\\n* The Romans named the city Lutetia, which means \"the place where the river turns\".\\n* The city was renamed Paris in the 3rd century BC by the Celtic-speaking Parisii tribe.\\n\\n**To conclude**, Paris is highly regarded as one of the most beautiful cities in the world and is one of the world\\'s greatest cultural and economic centres.\\n\\n'}], input_variables=[], input_types={}, partial_variables={}, example_prompt=ChatPromptTemplate(input_variables=['input', 'output'], input_types={}, partial_variables={}, messages=[HumanMessagePromptTemplate(prompt=PromptTemplate(input_variables=['input'], input_types={}, partial_variables={}, template='{input}'), additional_kwargs={}), AIMessagePromptTemplate(prompt=PromptTemplate(input_variables=['output'], input_types={}, partial_variables={}, template='{output}'), additional_kwargs={})]))"
            ]
          },
          "execution_count": 22,
          "metadata": {},
          "output_type": "execute_result"
        }
      ],
      "source": [
        "few_shot_prompt"
      ]
    },
    {
      "cell_type": "code",
      "execution_count": 23,
      "metadata": {
        "id": "cDwfI95_ryU1"
      },
      "outputs": [],
      "source": [
        "prompt_template = ChatPromptTemplate.from_messages([\n",
        "    (\"system\", new_system_prompt),\n",
        "    few_shot_prompt,\n",
        "    (\"user\", \"{query}\"),\n",
        "])"
      ]
    },
    {
      "cell_type": "markdown",
      "metadata": {
        "id": "ZvEKhq2rryU1"
      },
      "source": [
        "Now feed this back into our pipeline:"
      ]
    },
    {
      "cell_type": "code",
      "execution_count": 24,
      "metadata": {
        "colab": {
          "base_uri": "https://localhost:8080/",
          "height": 384
        },
        "id": "BJLEX-peryU1",
        "outputId": "9bc03be6-67f6-4fa1-e3e1-006653ddadca"
      },
      "outputs": [
        {
          "data": {
            "text/markdown": [
              "## Aurelio AI's Offerings\n",
              "\n",
              "Aurelio AI is a company that develops tooling specifically for AI engineers.\n",
              "\n",
              "### Core Focus\n",
              "\n",
              "*   **Language AI:** Their primary area of expertise lies in language artificial intelligence.\n",
              "*   **AI Agents & Information Retrieval:** The team possesses strong skills in building AI agents and has a solid background in information retrieval.\n",
              "\n",
              "### Products and Services\n",
              "\n",
              "*   **Open Source Frameworks:** Aurelio AI is the creator of notable open-source frameworks such as:\n",
              "    *   Semantic Router\n",
              "    *   Semantic Chunkers\n",
              "*   **AI Platform:** They offer an AI Platform designed to provide engineers with the necessary tools to build AI applications.\n",
              "*   **Development Services:** The company also provides development services to other organizations, assisting them in bringing their AI technologies to market.\n",
              "*   **LangChain Experts:** Since September 2024, Aurelio AI has been recognized as LangChain Experts, a designation earned through their consistent delivery of AI solutions utilizing the LangChain ecosystem.\n",
              "\n",
              "**In conclusion**, Aurelio AI is a specialized company supporting AI engineers through open-source tools, a dedicated platform, and expert development services, with a particular emphasis on language AI and the LangChain framework."
            ],
            "text/plain": [
              "<IPython.core.display.Markdown object>"
            ]
          },
          "metadata": {},
          "output_type": "display_data"
        }
      ],
      "source": [
        "pipeline = prompt_template | llm\n",
        "out = pipeline.invoke({\"query\": query, \"context\": context}).content\n",
        "display(Markdown(out))"
      ]
    },
    {
      "cell_type": "markdown",
      "metadata": {
        "id": "UrEybF2dryU1"
      },
      "source": [
        "We can see that by adding a few examples to our prompt, ie _few-shot prompting_, we can get much more control over the exact structure of our LLM response. As the size of our LLMs increases, the ability of them to follow instructions becomes much greater and they tend to require less explicit prompting as we have shown here. However, even for SotA models like `gpt-4o` few-shot prompting is still a valid technique that can be used if the LLM is struggling to follow our intended instructions."
      ]
    },
    {
      "cell_type": "markdown",
      "metadata": {
        "id": "SK1PU1dIryU1"
      },
      "source": [
        "## Chain of Thought Prompting"
      ]
    },
    {
      "cell_type": "markdown",
      "metadata": {
        "id": "7CoiIYxmryU1"
      },
      "source": [
        "We'll take a look at one more commonly used prompting technique called _chain of thought_ (CoT). CoT is a technique that encourages the LLM to think through the problem step by step before providing an answer. The idea being that by breaking down the problem into smaller steps, the LLM is more likely to arrive at the correct answer and we are less likely to see hallucinations.\n",
        "\n",
        "To implement CoT we don't need any specific LangChain objects, instead we are simply modifying how we instruct our LLM within the system prompt. We will ask the LLM to list the problems that need to be solved, to solve each problem individually, and then to arrive at the final answer.\n",
        "\n",
        "Let's first test our LLM _without_ CoT prompting."
      ]
    },
    {
      "cell_type": "code",
      "execution_count": 28,
      "metadata": {
        "id": "ReF2-IUjryU1"
      },
      "outputs": [],
      "source": [
        "no_cot_system_prompt = \"\"\"\n",
        "Be a helpful assistant and answer the user's question.\n",
        "\n",
        "You MUST answer the question directly without any other\n",
        "text or explanation. Dont break down problem into steps\n",
        "\"\"\"\n",
        "\n",
        "no_cot_prompt_template = ChatPromptTemplate.from_messages([\n",
        "    (\"system\", no_cot_system_prompt),\n",
        "    (\"user\", \"{query}\"),\n",
        "])"
      ]
    },
    {
      "cell_type": "markdown",
      "metadata": {
        "id": "UBdDEZiTryU1"
      },
      "source": [
        "Nowadays most LLMs are trained to use CoT prompting by default, so we actually need to instruct it not to do so for this example which is why we added `\"You MUST answer the question directly without any other text or explanation.\"` to our system prompt."
      ]
    },
    {
      "cell_type": "code",
      "execution_count": 29,
      "metadata": {
        "colab": {
          "base_uri": "https://localhost:8080/"
        },
        "id": "KBe_3bXaryU1",
        "outputId": "ffbf39cf-e512-4313-c074-1af191e1da67"
      },
      "outputs": [
        {
          "name": "stdout",
          "output_type": "stream",
          "text": [
            "1392\n"
          ]
        }
      ],
      "source": [
        "query = (\n",
        "    \"How many keystrokes are needed to type the numbers from 1 to 500?\"\n",
        ")\n",
        "\n",
        "no_cot_pipeline = no_cot_prompt_template | llm\n",
        "no_cot_result = no_cot_pipeline.invoke({\"query\": query}).content\n",
        "print(no_cot_result)"
      ]
    },
    {
      "cell_type": "markdown",
      "metadata": {
        "id": "vEy5iGS4ryU2"
      },
      "source": [
        "The actual answer is `1392`, but the LLM _without_ CoT just hallucinates and gives us a guess. Now, we can add explicit CoT prompting to our system prompt to see if we can get a better result."
      ]
    },
    {
      "cell_type": "code",
      "execution_count": 30,
      "metadata": {
        "id": "4ZYaNGO5ryU2"
      },
      "outputs": [],
      "source": [
        "# Define the chain-of-thought prompt template\n",
        "cot_system_prompt = \"\"\"\n",
        "Be a helpful assistant and answer the user's question.\n",
        "\n",
        "To answer the question, you must:\n",
        "\n",
        "- List systematically and in precise detail all\n",
        "  subproblems that need to be solved to answer the\n",
        "  question.\n",
        "- Solve each sub problem INDIVIDUALLY and in sequence.\n",
        "- Finally, use everything you have worked through to\n",
        "  provide the final answer.\n",
        "\"\"\"\n",
        "\n",
        "cot_prompt_template = ChatPromptTemplate.from_messages([\n",
        "    (\"system\", cot_system_prompt),\n",
        "    (\"user\", \"{query}\"),\n",
        "])\n",
        "\n",
        "cot_pipeline = cot_prompt_template | llm"
      ]
    },
    {
      "cell_type": "code",
      "execution_count": 31,
      "metadata": {
        "colab": {
          "base_uri": "https://localhost:8080/",
          "height": 765
        },
        "id": "Ke2vWBrOryU2",
        "outputId": "ce8c9699-8aa2-4298-9531-69c4ef477dde"
      },
      "outputs": [
        {
          "data": {
            "text/markdown": [
              "Here's a breakdown of the keystrokes needed to type the numbers from 1 to 500:\n",
              "\n",
              "**Subproblems:**\n",
              "\n",
              "1.  **Count the number of single-digit numbers:** Identify how many numbers from 1 to 500 are single-digit.\n",
              "2.  **Count the number of two-digit numbers:** Identify how many numbers from 1 to 500 are two-digit.\n",
              "3.  **Count the number of three-digit numbers:** Identify how many numbers from 1 to 500 are three-digit.\n",
              "4.  **Calculate keystrokes for single-digit numbers:** Determine the total keystrokes for all single-digit numbers.\n",
              "5.  **Calculate keystrokes for two-digit numbers:** Determine the total keystrokes for all two-digit numbers.\n",
              "6.  **Calculate keystrokes for three-digit numbers:** Determine the total keystrokes for all three-digit numbers.\n",
              "7.  **Sum the keystrokes:** Add the keystrokes from all categories to get the final answer.\n",
              "\n",
              "**Solving the Subproblems:**\n",
              "\n",
              "1.  **Count the number of single-digit numbers:**\n",
              "    *   The single-digit numbers are 1, 2, 3, 4, 5, 6, 7, 8, 9.\n",
              "    *   There are **9** single-digit numbers.\n",
              "\n",
              "2.  **Count the number of two-digit numbers:**\n",
              "    *   The two-digit numbers range from 10 to 99.\n",
              "    *   To count them, we can use the formula: Last Number - First Number + 1.\n",
              "    *   So, 99 - 10 + 1 = **90** two-digit numbers.\n",
              "\n",
              "3.  **Count the number of three-digit numbers:**\n",
              "    *   The three-digit numbers range from 100 to 500.\n",
              "    *   Using the same formula: 500 - 100 + 1 = **401** three-digit numbers.\n",
              "\n",
              "4.  **Calculate keystrokes for single-digit numbers:**\n",
              "    *   Each single-digit number requires 1 keystroke.\n",
              "    *   Total keystrokes = 9 numbers * 1 keystroke/number = **9** keystrokes.\n",
              "\n",
              "5.  **Calculate keystrokes for two-digit numbers:**\n",
              "    *   Each two-digit number requires 2 keystrokes.\n",
              "    *   Total keystrokes = 90 numbers * 2 keystrokes/number = **180** keystrokes.\n",
              "\n",
              "6.  **Calculate keystrokes for three-digit numbers:**\n",
              "    *   Each three-digit number requires 3 keystrokes.\n",
              "    *   Total keystrokes = 401 numbers * 3 keystrokes/number = **1203** keystrokes.\n",
              "\n",
              "7.  **Sum the keystrokes:**\n",
              "    *   Total keystrokes = Keystrokes (1-digit) + Keystrokes (2-digit) + Keystrokes (3-digit)\n",
              "    *   Total keystrokes = 9 + 180 + 1203 = **1392** keystrokes.\n",
              "\n",
              "**Final Answer:**\n",
              "\n",
              "To type the numbers from 1 to 500, a total of **1392** keystrokes are needed."
            ],
            "text/plain": [
              "<IPython.core.display.Markdown object>"
            ]
          },
          "metadata": {},
          "output_type": "display_data"
        }
      ],
      "source": [
        "cot_result = cot_pipeline.invoke({\"query\": query}).content\n",
        "display(Markdown(cot_result))"
      ]
    },
    {
      "cell_type": "markdown",
      "metadata": {
        "id": "fw2o5yVEryU2"
      },
      "source": [
        "Now we get a much better result! Our LLM provides us with a final answer of `1392` which is correct. Finally, as mentioned most LLMs are now trained to use CoT prompting by default. So let's see what happens if we don't explicitly tell the LLM to use CoT."
      ]
    },
    {
      "cell_type": "code",
      "execution_count": 32,
      "metadata": {
        "id": "LhpHDEUkryU2"
      },
      "outputs": [],
      "source": [
        "system_prompt = \"\"\"\n",
        "Be a helpful assistant and answer the user's question.\n",
        "\"\"\"\n",
        "\n",
        "prompt_template = ChatPromptTemplate.from_messages([\n",
        "    (\"system\", system_prompt),\n",
        "    (\"user\", \"{query}\"),\n",
        "])\n",
        "\n",
        "pipeline = prompt_template | llm"
      ]
    },
    {
      "cell_type": "code",
      "execution_count": 33,
      "metadata": {
        "colab": {
          "base_uri": "https://localhost:8080/",
          "height": 361
        },
        "id": "w102It7kryU2",
        "outputId": "85f301f2-8d28-489e-a073-01ee40e66748"
      },
      "outputs": [
        {
          "data": {
            "text/markdown": [
              "Here's how to calculate the number of keystrokes needed to type the numbers from 1 to 500:\n",
              "\n",
              "**1. Single-Digit Numbers (1-9):**\n",
              "* There are 9 single-digit numbers.\n",
              "* Each requires 1 keystroke.\n",
              "* Total keystrokes: 9 * 1 = 9\n",
              "\n",
              "**2. Double-Digit Numbers (10-99):**\n",
              "* There are 99 - 10 + 1 = 90 double-digit numbers.\n",
              "* Each requires 2 keystrokes.\n",
              "* Total keystrokes: 90 * 2 = 180\n",
              "\n",
              "**3. Triple-Digit Numbers (100-500):**\n",
              "* There are 500 - 100 + 1 = 401 triple-digit numbers.\n",
              "* Each requires 3 keystrokes.\n",
              "* Total keystrokes: 401 * 3 = 1203\n",
              "\n",
              "**4. Total Keystrokes:**\n",
              "* Add the keystrokes from each category: 9 + 180 + 1203 = **1392**\n",
              "\n",
              "Therefore, you need **1392** keystrokes to type the numbers from 1 to 500."
            ],
            "text/plain": [
              "<IPython.core.display.Markdown object>"
            ]
          },
          "metadata": {},
          "output_type": "display_data"
        }
      ],
      "source": [
        "result = pipeline.invoke({\"query\": query}).content\n",
        "display(Markdown(result))"
      ]
    },
    {
      "cell_type": "markdown",
      "metadata": {
        "id": "4InfNSs_ryU2"
      },
      "source": [
        "We almost get the _exact_ same result. The formatting isn't quite as nice but the CoT behavior is clearly there, and the LLM produces the correct final answer!\n",
        "\n",
        "CoT is useful not only for simple question-answering like this, but is also a fundamental component of many agentic systems which will often use CoT steps paired with tool use to solve very complex problems, this is what we see in OpenAI's current flagship model `o1`. We'll see later in the course how we can do this ourselves."
      ]
    }
  ],
  "metadata": {
    "colab": {
      "provenance": []
    },
    "kernelspec": {
      "display_name": ".venv",
      "language": "python",
      "name": "python3"
    },
    "language_info": {
      "codemirror_mode": {
        "name": "ipython",
        "version": 3
      },
      "file_extension": ".py",
      "mimetype": "text/x-python",
      "name": "python",
      "nbconvert_exporter": "python",
      "pygments_lexer": "ipython3",
      "version": "3.12.7"
    }
  },
  "nbformat": 4,
  "nbformat_minor": 0
}
